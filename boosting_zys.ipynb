{
 "cells": [
  {
   "cell_type": "code",
   "execution_count": 38,
   "metadata": {},
   "outputs": [],
   "source": [
    "import pyreadr\n",
    "import numpy as np \n",
    "import lightgbm as lgb\n",
    "import pandas as pd\n",
    "from sklearn import preprocessing\n",
    "\n",
    "result = pyreadr.read_r('df_train_test.RData')\n",
    "\n",
    "population_train = result['population_train']\n",
    "population_test = result['population_test']\n",
    "df_train = result['df_train']\n",
    "df_test = result['df_test']\n",
    "\n",
    "# Create pandas DataFrame Object\n",
    "df = pd.DataFrame(population_train)\n",
    "# Create LabelEncoder Object and fit(),transform()\n",
    "lbl = preprocessing.LabelEncoder()\n",
    "lbl.fit(np.ravel(df))\n",
    "population_train = lbl.transform(np.ravel(df))\n",
    "\n",
    "train_data = lgb.Dataset(df_train, label=population_train)\n",
    "\n",
    "population_test =  population_test.to_numpy()"
   ]
  },
  {
   "cell_type": "code",
   "execution_count": 54,
   "metadata": {
    "scrolled": true
   },
   "outputs": [],
   "source": [
    "params = {'objective': 'multiclass', 'metric': 'multi_error', 'num_class':5, 'force_col_wise':True,\n",
    "          'verbose': -1, \n",
    "          'num_leaves': 31,'max_depth': 3, 'bagging_fraction': 0.1}\n",
    "\n",
    "best_params = {'objective': 'multiclass', 'metric': 'multi_error', 'num_class':5, 'force_col_wise':True,\n",
    "               'verbose': -1,\n",
    "               'num_leaves': 31, 'max_depth': 3, 'bagging_fraction': 0.1}\n",
    "\n",
    "min_merror = 100"
   ]
  },
  {
   "cell_type": "code",
   "execution_count": 59,
   "metadata": {},
   "outputs": [],
   "source": [
    "for max_depth in range(0,6,1):\n",
    "    for num_leaves in range(20, 40,5):\n",
    "        for bagging_fraction in np.arange(0.1, 1,0.2):\n",
    "                params['max_depth'] = max_depth\n",
    "                params['bagging_fraction'] = bagging_fraction\n",
    "                params['num_leaves'] = num_leaves\n",
    "\n",
    "                cv_results = lgb.cv(\n",
    "                                    params,\n",
    "                                    train_data,\n",
    "                                    seed=42,\n",
    "                                    nfold=3\n",
    "                                    )\n",
    "\n",
    "                mean_merror = pd.Series(cv_results['multi_error-mean']).min()\n",
    "                #boost_rounds = pd.Series(cv_results['multi_error-mean']).argmin()\n",
    "\n",
    "                if mean_merror < min_merror:\n",
    "                    min_merror = mean_merror\n",
    "                    best_params['max_depth']= max_depth\n",
    "                    best_params['bagging_fraction'] = bagging_fraction\n",
    "                    best_params['num_leaves'] = num_leaves"
   ]
  },
  {
   "cell_type": "code",
   "execution_count": 60,
   "metadata": {},
   "outputs": [
    {
     "name": "stdout",
     "output_type": "stream",
     "text": [
      "Test accuracy = 74.834%.\n"
     ]
    }
   ],
   "source": [
    "bst = lgb.train(best_params, train_data)\n",
    "\n",
    "ypred = bst.predict(df_test)\n",
    "\n",
    "cl = np.unique(population_test)\n",
    "\n",
    "right = 0\n",
    "\n",
    "for i in range(1, len(ypred)):\n",
    "    x = ypred[i]\n",
    "    pred = cl[np.argmax(x)]\n",
    "    if pred == population_test[i]:\n",
    "        right = right + 1\n",
    "\n",
    "print(f\"Test accuracy = {round(right/len(population_test)*100,3)}%.\")\n"
   ]
  },
  {
   "cell_type": "code",
   "execution_count": null,
   "metadata": {},
   "outputs": [],
   "source": []
  }
 ],
 "metadata": {
  "kernelspec": {
   "display_name": "Python 3",
   "language": "python",
   "name": "python3"
  },
  "language_info": {
   "codemirror_mode": {
    "name": "ipython",
    "version": 3
   },
   "file_extension": ".py",
   "mimetype": "text/x-python",
   "name": "python",
   "nbconvert_exporter": "python",
   "pygments_lexer": "ipython3",
   "version": "3.7.4"
  }
 },
 "nbformat": 4,
 "nbformat_minor": 5
}
